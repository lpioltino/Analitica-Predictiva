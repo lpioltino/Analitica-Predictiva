{
  "nbformat": 4,
  "nbformat_minor": 0,
  "metadata": {
    "colab": {
      "name": "Modelos .ipynb",
      "provenance": [],
      "collapsed_sections": [],
      "mount_file_id": "1_baOWRZBSbzP2Vsm1PS22Ts22Ov9e3nW",
      "authorship_tag": "ABX9TyMQyzodQ9m/KgkjE1RTheap",
      "include_colab_link": true
    },
    "kernelspec": {
      "name": "python3",
      "display_name": "Python 3"
    },
    "language_info": {
      "name": "python"
    }
  },
  "cells": [
    {
      "cell_type": "markdown",
      "metadata": {
        "id": "view-in-github",
        "colab_type": "text"
      },
      "source": [
        "<a href=\"https://colab.research.google.com/github/lpioltino/Analitica-Predictiva/blob/main/Modelos_.ipynb\" target=\"_parent\"><img src=\"https://colab.research.google.com/assets/colab-badge.svg\" alt=\"Open In Colab\"/></a>"
      ]
    },
    {
      "cell_type": "code",
      "metadata": {
        "id": "nsxfGG1yu8N4"
      },
      "source": [
        "from google.colab import drive\n",
        "drive.mount('/content/gdrive')"
      ],
      "execution_count": null,
      "outputs": []
    },
    {
      "cell_type": "code",
      "source": [
        "import pandas as pd\n",
        "import matplotlib.pyplot as plt\n",
        "import seaborn as sns\n",
        "import numpy as np\n",
        "from sklearn.model_selection import train_test_split, RandomizedSearchCV, GridSearchCV\n",
        "from sklearn.ensemble import RandomForestRegressor, ExtraTreesRegressor\n",
        "from sklearn.metrics import accuracy_score, mean_absolute_error\n",
        "from sklearn import preprocessing\n",
        "from sklearn.metrics import r2_score\n",
        "from sklearn.preprocessing import scale\n",
        "from math import *\n",
        "from sklearn import datasets, linear_model"
      ],
      "metadata": {
        "id": "i2tsi4eBXuCL"
      },
      "execution_count": null,
      "outputs": []
    },
    {
      "cell_type": "code",
      "source": [
        "data =pd.read_csv('/content/gdrive/MyDrive/Colab Notebooks/base.csv',sep=',')"
      ],
      "metadata": {
        "id": "G4E_o6__Xda4"
      },
      "execution_count": null,
      "outputs": []
    },
    {
      "cell_type": "code",
      "source": [
        "data.info()"
      ],
      "metadata": {
        "id": "rBT5fswiXwtd"
      },
      "execution_count": null,
      "outputs": []
    },
    {
      "cell_type": "code",
      "source": [
        "data.head()"
      ],
      "metadata": {
        "id": "PdgGPQU8Ypr7"
      },
      "execution_count": null,
      "outputs": []
    },
    {
      "cell_type": "code",
      "source": [
        "\n",
        "plt.figure(figsize =(24,12))\n",
        "sns.heatmap(data.corr(), annot = True)"
      ],
      "metadata": {
        "id": "7WrE3XHCYyVZ"
      },
      "execution_count": null,
      "outputs": []
    },
    {
      "cell_type": "markdown",
      "source": [
        "Elimino la variable worktype children porque con la edad es suficiente. Son dos variables que dicen lo mismo de otra manera "
      ],
      "metadata": {
        "id": "QBeoxk1iZbVP"
      }
    },
    {
      "cell_type": "code",
      "source": [
        "del data['work_type_children'] "
      ],
      "metadata": {
        "id": "IkXJV9GmZal9"
      },
      "execution_count": null,
      "outputs": []
    },
    {
      "cell_type": "markdown",
      "source": [
        "PRUEBO CON TODAS LAS VARIABLES "
      ],
      "metadata": {
        "id": "7RsNXZ5YbLFr"
      }
    },
    {
      "cell_type": "code",
      "source": [
        "y=data['stroke']"
      ],
      "metadata": {
        "id": "Z8YbTqGGaOmF"
      },
      "execution_count": null,
      "outputs": []
    },
    {
      "cell_type": "code",
      "source": [
        "y.value_counts()"
      ],
      "metadata": {
        "id": "7JpksZtxesqO"
      },
      "execution_count": null,
      "outputs": []
    },
    {
      "cell_type": "code",
      "source": [
        "x=data[['age','hypertension','heart_disease','avg_glucose_level','bmi','gender_Female','gender_Male','gender_Other','ever_married_No','ever_married_Yes','work_type_Govt_job','work_type_Never_worked','work_type_Private','work_type_Self-employed','Residence_type_Rural','Residence_type_Urban','smoking_status_formerly smoked','smoking_status_never smoked','smoking_status_smokes','smoking_status_Unknown']]"
      ],
      "metadata": {
        "id": "f6nNZNa1abVU"
      },
      "execution_count": null,
      "outputs": []
    },
    {
      "cell_type": "markdown",
      "source": [
        "BALANCEO DE CLASES "
      ],
      "metadata": {
        "id": "J2WzrIP5gmJa"
      }
    },
    {
      "cell_type": "code",
      "source": [
        "from imblearn.over_sampling import SMOTE\n",
        "\n",
        "sm = SMOTE(random_state=27)\n",
        "x,y= sm.fit_resample(x, y)"
      ],
      "metadata": {
        "id": "It3JJFJYe8Zr"
      },
      "execution_count": null,
      "outputs": []
    },
    {
      "cell_type": "code",
      "source": [
        "from sklearn.model_selection import train_test_split \n",
        "x_train, x_test, y_train,y_test = train_test_split(x,y,test_size = 0.3,random_state = 0 )"
      ],
      "metadata": {
        "id": "a6SD8FO0bRM6"
      },
      "execution_count": null,
      "outputs": []
    },
    {
      "cell_type": "markdown",
      "source": [
        "SACO LAS VARIABLES NO SIGNIFICATIVAS"
      ],
      "metadata": {
        "id": "uC_6ZAus-jNl"
      }
    },
    {
      "cell_type": "code",
      "source": [
        "y2=data['stroke']"
      ],
      "metadata": {
        "id": "chuHcLe4-UDQ"
      },
      "execution_count": null,
      "outputs": []
    },
    {
      "cell_type": "code",
      "source": [
        "x2=data[['age','hypertension','heart_disease','avg_glucose_level','bmi','ever_married_No','ever_married_Yes','work_type_Govt_job','work_type_Never_worked','work_type_Private','work_type_Self-employed','smoking_status_formerly smoked','smoking_status_never smoked','smoking_status_smokes','smoking_status_Unknown']]"
      ],
      "metadata": {
        "id": "ljb8CHAykV_9"
      },
      "execution_count": null,
      "outputs": []
    },
    {
      "cell_type": "code",
      "source": [
        "from imblearn.over_sampling import SMOTE\n",
        "\n",
        "sm = SMOTE(random_state=27)\n",
        "x2,y2= sm.fit_resample(x2, y2)"
      ],
      "metadata": {
        "id": "hYq9eiRy9zJV"
      },
      "execution_count": null,
      "outputs": []
    },
    {
      "cell_type": "code",
      "source": [
        "from sklearn.model_selection import train_test_split \n",
        "x2_train, x2_test, y2_train,y2_test = train_test_split(x2,y,test_size = 0.3,random_state = 0 )"
      ],
      "metadata": {
        "id": "0M90sMxm-D-h"
      },
      "execution_count": null,
      "outputs": []
    },
    {
      "cell_type": "code",
      "source": [
        "print(\"Training Data: {}\".format(len(x_train)))\n",
        "print(\"Testing Data: {}\".format(len(x_test)))"
      ],
      "metadata": {
        "id": "iXMSDT5XRdU4"
      },
      "execution_count": null,
      "outputs": []
    },
    {
      "cell_type": "markdown",
      "source": [
        "MODELOS"
      ],
      "metadata": {
        "id": "-YeGVqQvcP3y"
      }
    },
    {
      "cell_type": "markdown",
      "source": [
        "RANDOM FOREST"
      ],
      "metadata": {
        "id": "180dHygEcQ9z"
      }
    },
    {
      "cell_type": "markdown",
      "source": [
        "MODELO 1 "
      ],
      "metadata": {
        "id": "xUd-5JDFA-Nt"
      }
    },
    {
      "cell_type": "code",
      "source": [
        "from sklearn.ensemble import RandomForestClassifier\n",
        "random_forest_model = RandomForestClassifier(max_depth=18, random_state= 42)\n",
        "random_forest_model.fit(x_train, y_train)"
      ],
      "metadata": {
        "id": "ccqBqXwBcShH",
        "colab": {
          "base_uri": "https://localhost:8080/"
        },
        "outputId": "cd2745a3-8457-496e-80d8-2d8bb6d1c7a6"
      },
      "execution_count": null,
      "outputs": [
        {
          "output_type": "execute_result",
          "data": {
            "text/plain": [
              "RandomForestClassifier(max_depth=18, random_state=42)"
            ]
          },
          "metadata": {},
          "execution_count": 13
        }
      ]
    },
    {
      "cell_type": "code",
      "source": [
        "random_forest_model.score(x_test, y_test)"
      ],
      "metadata": {
        "id": "8yC-RuOScZY6",
        "colab": {
          "base_uri": "https://localhost:8080/"
        },
        "outputId": "8ea6c079-65c3-4783-d695-6a337fdec54e"
      },
      "execution_count": null,
      "outputs": [
        {
          "output_type": "execute_result",
          "data": {
            "text/plain": [
              "0.9636612958519026"
            ]
          },
          "metadata": {},
          "execution_count": 10
        }
      ]
    },
    {
      "cell_type": "code",
      "source": [
        "random_forest_model.score(x_train, y_train)"
      ],
      "metadata": {
        "id": "l4mzhHJEcgQ_",
        "colab": {
          "base_uri": "https://localhost:8080/"
        },
        "outputId": "03853f1c-b188-422b-de20-b00c7735f874"
      },
      "execution_count": null,
      "outputs": [
        {
          "output_type": "execute_result",
          "data": {
            "text/plain": [
              "0.9997060984570169"
            ]
          },
          "metadata": {},
          "execution_count": 11
        }
      ]
    },
    {
      "cell_type": "code",
      "source": [
        "fila = []\n",
        "\n",
        "for i in range(14,29,2):\n",
        "  print(i)\n",
        "  rf = RandomForestClassifier(max_depth=i,random_state=42)\n",
        "  rf.fit(x_train,y_train)\n",
        "  r2_train = rf.score(x_train, y_train)\n",
        "  r2_test = rf.score(x_test, y_test)\n",
        "  fila.append([i,r2_train,r2_test])"
      ],
      "metadata": {
        "id": "gn_CdeaidL42"
      },
      "execution_count": null,
      "outputs": []
    },
    {
      "cell_type": "code",
      "source": [
        "scores_prof = pd.DataFrame(fila, columns=[\"max_depth\",\"r2_train\",\"r2_test\"])\n",
        "scores_prof"
      ],
      "metadata": {
        "id": "Sfla5J4kdU5u"
      },
      "execution_count": null,
      "outputs": []
    },
    {
      "cell_type": "markdown",
      "source": [
        "MATRIZ"
      ],
      "metadata": {
        "id": "T05fHZI6QxQL"
      }
    },
    {
      "cell_type": "code",
      "source": [
        "from sklearn.metrics import plot_confusion_matrix\n",
        "plot_confusion_matrix(random_forest_model, x_test,y_test,cmap='Blues')"
      ],
      "metadata": {
        "id": "6QQEF25Gdjdt"
      },
      "execution_count": null,
      "outputs": []
    },
    {
      "cell_type": "code",
      "source": [
        "sorted_idx = random_forest_model.feature_importances_.argsort()\n",
        "plt.barh(x_train.columns[sorted_idx], random_forest_model.feature_importances_[sorted_idx])\n",
        "plt.xlabel(\"Random Forest Feature Importance\")"
      ],
      "metadata": {
        "id": "PDB347iCgC1o"
      },
      "execution_count": null,
      "outputs": []
    },
    {
      "cell_type": "code",
      "source": [
        "y_predR = random_forest_model.predict(x_test)\n",
        "from sklearn.metrics import roc_auc_score\n",
        "from sklearn import metrics\n",
        "print(\"Accuracy Score: {}\".format(accuracy_score(y_test,y_predR)))\n",
        "print(\"Precision:\",metrics.precision_score(y_test, y_predR))\n",
        "print(\"Recall:\",metrics.recall_score(y_test, y_predR))\n",
        "\n",
        "\n",
        "roc_auc_score(y_test, random_forest_model.predict_proba(x_test)[:,1])"
      ],
      "metadata": {
        "id": "2RQpYVxUSf94"
      },
      "execution_count": null,
      "outputs": []
    },
    {
      "cell_type": "code",
      "source": [
        "y_pred_logreg_proba = random_forest_model.predict_proba(x_test)\n",
        "from sklearn.metrics import roc_curve\n",
        "fpr, tpr, thresholds = roc_curve(y_test, y_pred_logreg_proba[:,1])\n",
        "plt.figure(figsize=(6,4))\n",
        "plt.plot(fpr,tpr,'-g',linewidth=1)\n",
        "plt.plot([0,1], [0,1], 'k--' )\n",
        "plt.title('ROC curve for Random Forest Model')\n",
        "plt.xlabel(\"False Positive Rate\")\n",
        "plt.ylabel('True Positive Rate')\n",
        "plt.show()"
      ],
      "metadata": {
        "id": "KSxPHYZudz0A"
      },
      "execution_count": null,
      "outputs": []
    },
    {
      "cell_type": "markdown",
      "source": [
        "MODELO 2"
      ],
      "metadata": {
        "id": "QzEJT_4qBN9T"
      }
    },
    {
      "cell_type": "code",
      "source": [
        "from sklearn.ensemble import RandomForestClassifier\n",
        "random_forest_model2 = RandomForestClassifier(max_depth=18, random_state= 42)\n",
        "random_forest_model2.fit(x2_train, y2_train)"
      ],
      "metadata": {
        "id": "t_ZeQmnhBMEX"
      },
      "execution_count": null,
      "outputs": []
    },
    {
      "cell_type": "code",
      "source": [
        "random_forest_model2.score(x2_test, y2_test)"
      ],
      "metadata": {
        "id": "PyHNtCufBMEX"
      },
      "execution_count": null,
      "outputs": []
    },
    {
      "cell_type": "code",
      "source": [
        "random_forest_model2.score(x2_train, y2_train)"
      ],
      "metadata": {
        "id": "MbXjfqFbBMEX"
      },
      "execution_count": null,
      "outputs": []
    },
    {
      "cell_type": "code",
      "source": [
        "fila2 = []\n",
        "\n",
        "for i in range(14,29,2):\n",
        "  print(i)\n",
        "  rf2 = RandomForestClassifier(max_depth=i,random_state=42)\n",
        "  rf2.fit(x2_train,y2_train)\n",
        "  r22_train = rf2.score(x2_train, y2_train)\n",
        "  r22_test = rf2.score(x2_test, y2_test)\n",
        "  fila2.append([i,r22_train,r22_test])"
      ],
      "metadata": {
        "id": "O9HcZi4KBMEY"
      },
      "execution_count": null,
      "outputs": []
    },
    {
      "cell_type": "code",
      "source": [
        "scores_prof2 = pd.DataFrame(fila2, columns=[\"max_depth\",\"r2_train\",\"r2_test\"])\n",
        "scores_prof2"
      ],
      "metadata": {
        "id": "rIV7lB7NBMEY"
      },
      "execution_count": null,
      "outputs": []
    },
    {
      "cell_type": "markdown",
      "source": [
        "XG BOOST"
      ],
      "metadata": {
        "id": "BoBBXM3cA4FJ"
      }
    },
    {
      "cell_type": "code",
      "source": [
        "import xgboost as xgb\n",
        "XGboost = xgb.XGBClassifier(objective ='reg:squarederror', colsample_bytree = 0.3, learning_rate = 0.2,\n",
        "                max_depth = 22, alpha = 10, n_estimators = 150)\n",
        "XGboost.fit(x_train,y_train)\n"
      ],
      "metadata": {
        "id": "BCINunYQhQ-Y"
      },
      "execution_count": null,
      "outputs": []
    },
    {
      "cell_type": "code",
      "source": [
        "predsXG = XGboost.predict(x_test)\n",
        "r2_score(y_test,predsXG)"
      ],
      "metadata": {
        "id": "X6Mcnho7hb7J"
      },
      "execution_count": null,
      "outputs": []
    },
    {
      "cell_type": "code",
      "source": [
        "predsXGt = XGboost.predict(x_train)\n",
        "r2_score(y_train,predsXGt)"
      ],
      "metadata": {
        "id": "gGqU1P1XxHB8"
      },
      "execution_count": null,
      "outputs": []
    },
    {
      "cell_type": "code",
      "source": [
        "fila2 = []\n",
        "\n",
        "for i in range(14,29,2):\n",
        "  xb = xgb.XGBClassifier(max_depth=i)\n",
        "  xb.fit(x_train,y_train)\n",
        "  r2_train = xb.score(x_train, y_train)\n",
        "  r2_test = xb.score(x_test, y_test)\n",
        "  fila2.append([i,r2_train,r2_test])"
      ],
      "metadata": {
        "id": "6-O39sGpwN02"
      },
      "execution_count": null,
      "outputs": []
    },
    {
      "cell_type": "code",
      "source": [
        "scores_depth_xb = pd.DataFrame(fila2, columns=[\"max_depth\",\"r2_train\",\"r2_test\"])\n",
        "scores_depth_xb"
      ],
      "metadata": {
        "id": "pGAElxHnwmWz"
      },
      "execution_count": null,
      "outputs": []
    },
    {
      "cell_type": "code",
      "source": [
        "xgb.plot_importance(XGboost)\n",
        "plt.rcParams['figure.figsize'] = [8, 8]\n",
        "plt.show()"
      ],
      "metadata": {
        "id": "0halSXR9zvaQ"
      },
      "execution_count": null,
      "outputs": []
    },
    {
      "cell_type": "code",
      "source": [
        "xgb.plot_tree(XGboost,num_trees=0)\n",
        "plt.rcParams['figure.figsize'] = [10,10]\n",
        "plt.show()"
      ],
      "metadata": {
        "id": "mDa-C5Rt0ANu"
      },
      "execution_count": null,
      "outputs": []
    },
    {
      "cell_type": "code",
      "source": [
        "predsXG = XGboost.predict(x_test)\n",
        "from sklearn.metrics import roc_auc_score\n",
        "from sklearn import metrics\n",
        "print(\"Accuracy Score: {}\".format(accuracy_score(y_test,predsXG)))\n",
        "print(\"Precision:\",metrics.precision_score(y_test, predsXG))\n",
        "print(\"Recall:\",metrics.recall_score(y_test,predsXG))\n",
        "\n",
        "\n",
        "roc_auc_score(y_test,  XGboost.predict_proba(x_test)[:,1])"
      ],
      "metadata": {
        "id": "Lag1OqeoUTg4"
      },
      "execution_count": null,
      "outputs": []
    },
    {
      "cell_type": "code",
      "source": [
        "from sklearn.metrics import plot_confusion_matrix\n",
        "plot_confusion_matrix(XGboost, x_test,y_test,cmap='Blues')"
      ],
      "metadata": {
        "id": "YWnqq07hWKrn"
      },
      "execution_count": null,
      "outputs": []
    },
    {
      "cell_type": "markdown",
      "source": [
        "REGRESION LOGÍSTICA "
      ],
      "metadata": {
        "id": "QSUVVtgSh_G8"
      }
    },
    {
      "cell_type": "code",
      "source": [
        "from sklearn.linear_model import LogisticRegression\n",
        "from sklearn.metrics import accuracy_score\n",
        "import statsmodels.api as sm\n",
        "import statsmodels.formula.api as smf\n",
        "from statsmodels.stats.weightstats import ttest_ind\n",
        "modelo = LogisticRegression(penalty='none')\n",
        "modelo.fit(x_train,y_train)\n",
        "y_pred=modelo.predict(x_test)"
      ],
      "metadata": {
        "id": "uTcws_In7Mwy"
      },
      "execution_count": null,
      "outputs": []
    },
    {
      "cell_type": "markdown",
      "source": [
        "MATRIZ DE CONFUSION"
      ],
      "metadata": {
        "id": "8_dejCcWK3yK"
      }
    },
    {
      "cell_type": "code",
      "source": [
        "from sklearn import metrics\n",
        "cnf_matrix = metrics.confusion_matrix(y_test, y_pred)\n",
        "cnf_matrix"
      ],
      "metadata": {
        "id": "ZAzWCIscJad0"
      },
      "execution_count": null,
      "outputs": []
    },
    {
      "cell_type": "code",
      "source": [
        "import numpy as np\n",
        "import matplotlib.pyplot as plt\n",
        "import seaborn as sns\n",
        "%matplotlib inline"
      ],
      "metadata": {
        "id": "fJGrbSFFJi4C"
      },
      "execution_count": null,
      "outputs": []
    },
    {
      "cell_type": "code",
      "source": [
        "class_names=[0,1] # name  of classes\n",
        "fig, ax = plt.subplots()\n",
        "tick_marks = np.arange(len(class_names))\n",
        "plt.xticks(tick_marks, class_names)\n",
        "plt.yticks(tick_marks, class_names)\n",
        "# create heatmap\n",
        "sns.heatmap(pd.DataFrame(cnf_matrix), annot=True, cmap='Blues',fmt='g')\n",
        "ax.xaxis.set_label_position(\"top\")\n",
        "plt.tight_layout()\n",
        "plt.title('Confusion matrix', y=1.1)\n",
        "plt.ylabel('Actual label')\n",
        "plt.xlabel('Predicted label')"
      ],
      "metadata": {
        "id": "zFVZBCJ8JlvI"
      },
      "execution_count": null,
      "outputs": []
    },
    {
      "cell_type": "markdown",
      "source": [
        "MEDIDAS"
      ],
      "metadata": {
        "id": "z-YOwRTxK124"
      }
    },
    {
      "cell_type": "code",
      "source": [
        "print(\"Accuracy:\",metrics.accuracy_score(y_test, y_pred))\n",
        "print(\"Precision:\",metrics.precision_score(y_test, y_pred))\n",
        "print(\"Recall:\",metrics.recall_score(y_test, y_pred))\n",
        "roc_auc_score(y_test,  modelo.predict_proba(x_test)[:,1])"
      ],
      "metadata": {
        "id": "lr6Oo3ofJ1Bu",
        "colab": {
          "base_uri": "https://localhost:8080/"
        },
        "outputId": "6725154e-e892-4619-e69f-f53b9e34529f"
      },
      "execution_count": null,
      "outputs": [
        {
          "output_type": "stream",
          "name": "stdout",
          "text": [
            "Accuracy: 0.9221803222488858\n",
            "Precision: 0.9366197183098591\n",
            "Recall: 0.9066121336059987\n"
          ]
        },
        {
          "output_type": "execute_result",
          "data": {
            "text/plain": [
              "0.9783466140140564"
            ]
          },
          "metadata": {},
          "execution_count": 23
        }
      ]
    },
    {
      "cell_type": "markdown",
      "source": [
        "CURVA ROC "
      ],
      "metadata": {
        "id": "CbrT9PJWKz5C"
      }
    },
    {
      "cell_type": "code",
      "source": [
        "y_pred_proba = modelo.predict_proba(x_test)[::,1]\n",
        "fpr, tpr, _ = metrics.roc_curve(y_test,  y_pred_proba)\n",
        "auc = metrics.roc_auc_score(y_test, y_pred_proba)\n",
        "plt.plot(fpr,tpr,label=\"data 1, auc=\"+str(auc))\n",
        "plt.legend(loc=4)\n",
        "plt.show()"
      ],
      "metadata": {
        "id": "R-8G2FqdKjT8"
      },
      "execution_count": null,
      "outputs": []
    },
    {
      "cell_type": "markdown",
      "source": [
        "RED NEURONAL"
      ],
      "metadata": {
        "id": "rjoPD521iaQf"
      }
    },
    {
      "cell_type": "code",
      "source": [
        "from sklearn.neural_network import MLPClassifier\n",
        "clf_red = MLPClassifier(hidden_layer_sizes=(7,), random_state=42)\n",
        "clf_red.fit(x_train, y_train)"
      ],
      "metadata": {
        "id": "X06IaCp8iUKR",
        "colab": {
          "base_uri": "https://localhost:8080/"
        },
        "outputId": "fd028127-fddc-4581-a2de-d3bd9784e2b0"
      },
      "execution_count": null,
      "outputs": [
        {
          "output_type": "stream",
          "name": "stderr",
          "text": [
            "/usr/local/lib/python3.7/dist-packages/sklearn/neural_network/_multilayer_perceptron.py:696: ConvergenceWarning: Stochastic Optimizer: Maximum iterations (200) reached and the optimization hasn't converged yet.\n",
            "  ConvergenceWarning,\n"
          ]
        },
        {
          "output_type": "execute_result",
          "data": {
            "text/plain": [
              "MLPClassifier(hidden_layer_sizes=(7,), random_state=42)"
            ]
          },
          "metadata": {},
          "execution_count": 24
        }
      ]
    },
    {
      "cell_type": "code",
      "source": [
        "clf_red.score(x_test,y_test)"
      ],
      "metadata": {
        "id": "2Hh6qD6Ziewp"
      },
      "execution_count": null,
      "outputs": []
    },
    {
      "cell_type": "code",
      "source": [
        "clf_red.score(x_train,y_train)"
      ],
      "metadata": {
        "id": "DFF2xQZRiih1"
      },
      "execution_count": null,
      "outputs": []
    },
    {
      "cell_type": "code",
      "source": [
        "plot_confusion_matrix(clf_red, x_test,y_test,cmap='Blues')"
      ],
      "metadata": {
        "id": "SLqMXkTeilTH"
      },
      "execution_count": null,
      "outputs": []
    },
    {
      "cell_type": "code",
      "source": [
        "red_pred = clf_red.predict(x_test)\n",
        "print(\"Accuracy:\",metrics.accuracy_score(y_test, red_pred))\n",
        "print(\"Precision:\",metrics.precision_score(y_test, red_pred))\n",
        "print(\"Recall:\",metrics.recall_score(y_test, red_pred))\n",
        "from sklearn.metrics import accuracy_score\n",
        "from sklearn.metrics import roc_curve,roc_auc_score\n",
        "from sklearn import metrics\n",
        "roc_auc_score(y_test, clf_red.predict_proba(x_test)[:,1])"
      ],
      "metadata": {
        "id": "rRAkn2dAiv5k"
      },
      "execution_count": null,
      "outputs": []
    },
    {
      "cell_type": "code",
      "source": [
        "y_pred_red_proba = clf_red.predict_proba(x_test)\n",
        "from sklearn.metrics import roc_curve\n",
        "fpr, tpr, thresholds = roc_curve(y_test, y_pred_red_proba[:,1])\n",
        "plt.figure(figsize=(6,4))\n",
        "plt.plot(fpr,tpr,'-g',linewidth=1)\n",
        "plt.plot([0,1], [0,1], 'k--' )\n",
        "plt.title('ROC curve for Logistic Regression Model')\n",
        "plt.xlabel(\"False Positive Rate\")\n",
        "plt.ylabel('True Positive Rate')\n",
        "plt.show()"
      ],
      "metadata": {
        "id": "E3wVzdd5jPbz"
      },
      "execution_count": null,
      "outputs": []
    }
  ]
}