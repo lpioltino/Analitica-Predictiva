{
  "nbformat": 4,
  "nbformat_minor": 0,
  "metadata": {
    "colab": {
      "name": "Analitica Predictiva _ Segunda version ipynb",
      "provenance": [],
      "collapsed_sections": [],
      "authorship_tag": "ABX9TyP0kroZ2j2c6EudKPpQ+2aw",
      "include_colab_link": true
    },
    "kernelspec": {
      "display_name": "R",
      "name": "ir"
    },
    "language_info": {
      "name": "R"
    }
  },
  "cells": [
    {
      "cell_type": "markdown",
      "metadata": {
        "id": "view-in-github",
        "colab_type": "text"
      },
      "source": [
        "<a href=\"https://colab.research.google.com/github/lpioltino/Analitica-Predictiva/blob/main/Analitica_Predictiva___Segunda_version_ipynb.ipynb\" target=\"_parent\"><img src=\"https://colab.research.google.com/assets/colab-badge.svg\" alt=\"Open In Colab\"/></a>"
      ]
    },
    {
      "cell_type": "code",
      "metadata": {
        "id": "tRvA-Oi4Aw8W"
      },
      "source": [
        "install.packages(\"NeuralNetTools\")\n",
        "install.packages(\"rpart\")\n",
        "install.packages(\"e1017\")\n",
        "install.packages(\"corrplot\")\n",
        "install.packages(\"caret\")\n",
        "install.packages(\"fastDummies\")\n",
        "install.packages(\"dplyr\")\n",
        "install.packages(\"mice\")"
      ],
      "execution_count": null,
      "outputs": []
    },
    {
      "cell_type": "code",
      "metadata": {
        "id": "aI0-36dw62C5"
      },
      "source": [
        "data=read.csv(\"/datos.csv\",header=TRUE,sep=\",\")"
      ],
      "execution_count": 92,
      "outputs": []
    },
    {
      "cell_type": "code",
      "metadata": {
        "id": "e3XThWxEw-jD"
      },
      "source": [
        "resultados = read.csv(\"/resultados.csv\", header=TRUE, sep=\",\")"
      ],
      "execution_count": 2,
      "outputs": []
    },
    {
      "cell_type": "markdown",
      "metadata": {
        "id": "soOHbR1g7Lu0"
      },
      "source": [
        "**ESTRUCTURA DE LA BASE**"
      ]
    },
    {
      "cell_type": "code",
      "metadata": {
        "id": "Z8g7Z1RZ7BH2"
      },
      "source": [
        "head(data)"
      ],
      "execution_count": null,
      "outputs": []
    },
    {
      "cell_type": "code",
      "metadata": {
        "id": "sWO9b6zL7HMG"
      },
      "source": [
        "dim(data)"
      ],
      "execution_count": null,
      "outputs": []
    },
    {
      "cell_type": "code",
      "metadata": {
        "id": "q_h90_Ah7Q9g"
      },
      "source": [
        "str(data)"
      ],
      "execution_count": null,
      "outputs": []
    },
    {
      "cell_type": "markdown",
      "metadata": {
        "id": "W63IhudU7Tsp"
      },
      "source": [
        "\n",
        "Separo las variables que estan juntas por comas"
      ]
    },
    {
      "cell_type": "code",
      "metadata": {
        "id": "YtMMciha7a8n"
      },
      "source": [
        "library(tidyr)\n",
        "library(dplyr)\n",
        "text <-select(data, 32,8) \n",
        "\n",
        "\n",
        "text<-separate(text,genres_x,into = paste(\"gen\", 1:2, sep = \"_\"), sep = \"[^[:alnum:]]+\")\n",
        "\n",
        "colnames(text)\n",
        "\n",
        "data<-merge(data,text,by=\"id\")\n",
        "data$genres_x=NULL"
      ],
      "execution_count": 3,
      "outputs": []
    },
    {
      "cell_type": "code",
      "metadata": {
        "id": "8kiTg3sf7eWW"
      },
      "source": [
        "text <-select(data, 9,1) \n",
        "\n",
        "\n",
        "text<-separate(text,directors,into = paste(\"dir\", 1:2, sep = \"_\"), sep = \"[^[:alnum:]]+\")\n",
        "\n",
        "colnames(text)\n",
        "\n",
        "data<-merge(data,text,by=\"id\")\n",
        "data$directors=NULL"
      ],
      "execution_count": 4,
      "outputs": []
    },
    {
      "cell_type": "code",
      "metadata": {
        "id": "CnXWhnXy7hCt"
      },
      "source": [
        "text <-select(data, 1,9) \n",
        "\n",
        "\n",
        "text<-separate(text,writers,into = paste(\"writ\", 1:2, sep = \"_\"), sep = \"[^[:alnum:]]+\")\n",
        "\n",
        "colnames(text)\n",
        "\n",
        "data<-merge(data,text,by=\"id\")\n",
        "data$writers=NULL"
      ],
      "execution_count": 5,
      "outputs": []
    },
    {
      "cell_type": "markdown",
      "metadata": {
        "id": "H1Ddj3Sn7nFu"
      },
      "source": [
        "## **Analisis univariado**"
      ]
    },
    {
      "cell_type": "code",
      "metadata": {
        "id": "McKA5veD7mve"
      },
      "source": [
        "\n",
        "library(\"mice\")\n",
        "md.pattern(data,rotate.names = 90)"
      ],
      "execution_count": null,
      "outputs": []
    },
    {
      "cell_type": "code",
      "metadata": {
        "id": "rz7AtcZ5719g"
      },
      "source": [
        "summary(data$averageRating)"
      ],
      "execution_count": null,
      "outputs": []
    },
    {
      "cell_type": "code",
      "metadata": {
        "id": "Xfc1S3mN7-5i"
      },
      "source": [
        "boxplot(data$averageRating,col=(c(\"red\")),main=\"Average Rating\")"
      ],
      "execution_count": null,
      "outputs": []
    },
    {
      "cell_type": "code",
      "metadata": {
        "id": "tAfDlQbVxMBc"
      },
      "source": [
        "hist(datos$averageRating,main=\"Average Rating\",col=\"darkblue\", xlab= \" \")"
      ],
      "execution_count": null,
      "outputs": []
    },
    {
      "cell_type": "code",
      "metadata": {
        "id": "MUMvRrDcmjhV"
      },
      "source": [
        "summary(data$numVotes)"
      ],
      "execution_count": null,
      "outputs": []
    },
    {
      "cell_type": "code",
      "metadata": {
        "id": "9EvjKHva8Dfh"
      },
      "source": [
        "\n",
        "data$seasonNumber[data$seasonNumber == \"\"] <- \"\\\\N\"\n",
        "data$seasonNumber=as.numeric(data$seasonNumber)\n",
        "data$seasonNumber[is.na(data$seasonNumber)]=median(data$seasonNumber,na.rm=TRUE)"
      ],
      "execution_count": null,
      "outputs": []
    },
    {
      "cell_type": "code",
      "metadata": {
        "id": "iipHV39c8JFh"
      },
      "source": [
        "table(data$titleType)\n",
        "data$titleType[data$titleType == \"\"] <- \"movie\""
      ],
      "execution_count": null,
      "outputs": []
    },
    {
      "cell_type": "code",
      "metadata": {
        "id": "ndMdpeSQ8Lg6"
      },
      "source": [
        "table(data$isAdult)\n",
        "data$isAdult[data$isAdult == \"2020\"] <- \"0\"\n",
        "data$isAdult[is.na(data$isAdult)]<-\"0\""
      ],
      "execution_count": null,
      "outputs": []
    },
    {
      "cell_type": "code",
      "metadata": {
        "id": "WSQDkiTJ8Pgm"
      },
      "source": [
        "table(data$startYear)\n",
        "data$startYear[data$startYear == \"\"] <- \"\\\\N\"\n",
        "data$startYear<-as.numeric(data$startYear)\n",
        "data$startYear[is.na(data$startYear)]=median(data$startYear,na.rm=TRUE)"
      ],
      "execution_count": null,
      "outputs": []
    },
    {
      "cell_type": "code",
      "metadata": {
        "id": "YVAIjhpw8bWq"
      },
      "source": [
        "table(data$endYear)"
      ],
      "execution_count": null,
      "outputs": []
    },
    {
      "cell_type": "markdown",
      "metadata": {
        "id": "Dk-HgpWa8ebZ"
      },
      "source": [
        "Demasiados missings, no tiene sentido arreglarla porque va a distorsionar el analisis. Las variables con mas de 60 % de NA, las saco directamente "
      ]
    },
    {
      "cell_type": "code",
      "metadata": {
        "id": "L8dIN_Ds8oMN"
      },
      "source": [
        "table(data$episodeNumber)\n",
        "data$episodeNumber[data$episodeNumber == \"\"] <- \"\\\\N\"\n",
        "data$episodeNumber<-as.numeric(data$episodeNumber)\n",
        "data$episodeNumber[is.na(data$episodeNumber)]=median(data$episodeNumber,na.rm=TRUE)"
      ],
      "execution_count": null,
      "outputs": []
    },
    {
      "cell_type": "code",
      "metadata": {
        "id": "TjuyoaRP85_C"
      },
      "source": [
        "table(data$runtimeMinutes)\n",
        "data$runtimeMinutes[data$runtimeMinutes == \"\"] <- \"\\\\N\"\n",
        "data$runtimeMinutes=as.numeric(data$runtimeMinutes)\n",
        "data$runtimeMinutes[is.na(data$runtimeMinutes)]=median(data$runtimeMinutes,na.rm=TRUE)"
      ],
      "execution_count": null,
      "outputs": []
    },
    {
      "cell_type": "code",
      "metadata": {
        "id": "mPb_w-cz-DwJ"
      },
      "source": [
        "table(data$ordering)\n",
        "data$ordering[is.na(data$ordering)]=mean(data$ordering,na.rm=TRUE)"
      ],
      "execution_count": null,
      "outputs": []
    },
    {
      "cell_type": "markdown",
      "metadata": {
        "id": "PSkKKUyy9GJ2"
      },
      "source": [
        "**VARIABLES ELIMINADAS**"
      ]
    },
    {
      "cell_type": "code",
      "metadata": {
        "id": "mXayvkEC9M4-"
      },
      "source": [
        "mean(is.na(data$popularity))\n",
        "mean(is.na(data$runtime))\n",
        "mean(is.na(data$budget))\n",
        "mean(is.na(data$revenue))\n",
        "mean(is.na(data$isOriginalTitle))\n",
        "mean(is.na(data$ordering))"
      ],
      "execution_count": null,
      "outputs": []
    },
    {
      "cell_type": "code",
      "metadata": {
        "id": "HO_91q_h9Cya"
      },
      "source": [
        "data$endYear=NULL\n",
        "data$language=NULL\n",
        "data$runtime=NULL\n",
        "data$budget=NULL\n",
        "data$popularity=NULL\n",
        "data$revenue=NULL\n",
        "data$isOriginalTitle=NULL\n",
        "data$endYear=NULL\n",
        "data$overview=NULL\n",
        "data$production_companies=NULL\n",
        "data$production_countries=NULL\n",
        "data$release_date=NULL\n",
        "data$genres_y=NULL\n",
        "data$original_language=NULL\n",
        "data$attributes=NULL\n",
        "data$runtime=NULL \n",
        "data$status=NULL\n",
        "data$video=NULL\n",
        "data$tagline=NULL\n",
        "data$adult=NULL\n",
        "data$dir_1=NULL\n",
        "data$dir_2=NULL\n",
        "data$writ_1=NULL\n",
        "data$writ_2=NULL\n",
        "data$gen_2=NULL"
      ],
      "execution_count": 13,
      "outputs": []
    },
    {
      "cell_type": "code",
      "metadata": {
        "id": "G4MXz8QLeY2j"
      },
      "source": [
        "data$'Comedy'[data$gen_1 == \"Comedy\"] <- 1\n",
        "data$'Drama'[data$gen_1 == \"Drama\"]<- 1\n",
        "data$'Documentary'[data$gen_1 == \"Documentary\"]<- 1\n",
        "data$'Crime'[data$gen_1 == \"Crime\"]<- 1\n",
        "data$'Animation'[data$gen_1 == \"Animation\"]<- 1\n",
        "data$'Adventure'[data$gen_1 == \"Adventure\"]<- 1\n",
        "data$'Reality'[data$gen_1 == \"Reality\"]<- 1\n",
        "data$'Short'[data$gen_1 == \"Short\"]<- 1\n",
        "data$'Music'[data$gen_1 == \"Music\"]<- 1\n",
        "data$Comedy[is.na(data$Comedy)]<-0\n",
        "data$Drama[is.na(data$Drama)]<-0\n",
        "data$Documentary[is.na(data$Documentary)]<-0\n",
        "data$Crime[is.na(data$Crime)]<-0\n",
        "data$Animation[is.na(data$Animation)]<-0\n",
        "data$Adventure[is.na(data$Adventure)]<-0\n",
        "data$Reality[is.na(data$Reality)]<-0\n",
        "data$Short[is.na(data$Short)]<-0\n",
        "data$Music[is.na(data$Music)]<-0\n",
        "data$gen_1=NULL\n",
        "data$types=NULL"
      ],
      "execution_count": 14,
      "outputs": []
    },
    {
      "cell_type": "code",
      "metadata": {
        "id": "h9CqU6lCCFAq"
      },
      "source": [
        "chisq.test(data$averageRating,data$id)\n",
        "chisq.test(data$averageRating,data$startYear)\n",
        "chisq.test(data$averageRating,data$episodeNumber)\n",
        "chisq.test(data$averageRating,data$seasonNumber)\n",
        "chisq.test(data$averageRating,data$ordering)\n",
        "chisq.test(data$averageRating,data$isAdult)\n",
        "chisq.test(data$averageRating,data$titleType)\n",
        "chisq.test(data$averageRating,data$Comedy)\n",
        "chisq.test(data$averageRating,data$Drama)\n",
        "chisq.test(data$averageRating,data$Documentary)\n",
        "chisq.test(data$averageRating,data$Music)\n",
        "chisq.test(data$averageRating,data$Short)\n",
        "chisq.test(data$averageRating,data$Adventure)\n",
        "chisq.test(data$averageRating,data$Crime)\n",
        "chisq.test(data$averageRating,data$Animation)\n",
        "chisq.test(data$averageRating,data$Reality)\n",
        "chisq.test(data$averageRating,data$numVotes)"
      ],
      "execution_count": null,
      "outputs": []
    },
    {
      "cell_type": "markdown",
      "metadata": {
        "id": "774wsjusCAo4"
      },
      "source": [
        "Variables significativas\n"
      ]
    },
    {
      "cell_type": "code",
      "metadata": {
        "id": "kmTYHXZdIEPv"
      },
      "source": [
        "data$id=NULL"
      ],
      "execution_count": 16,
      "outputs": []
    },
    {
      "cell_type": "markdown",
      "metadata": {
        "id": "wRZsy0GwCrkp"
      },
      "source": [
        "Id la saco, no es significativa como era esperable"
      ]
    },
    {
      "cell_type": "markdown",
      "metadata": {
        "id": "DO6ryksIDq94"
      },
      "source": [
        "Todas las otras variables tienen una valor p menor a 0, por lo tanto no las puedo sacar\n"
      ]
    },
    {
      "cell_type": "markdown",
      "metadata": {
        "id": "t6EBUJs7D3j7"
      },
      "source": [
        "MATRIZ DE CORRELACION"
      ]
    },
    {
      "cell_type": "code",
      "metadata": {
        "id": "tEO2esSzD3HO"
      },
      "source": [
        "str(data)"
      ],
      "execution_count": null,
      "outputs": []
    },
    {
      "cell_type": "code",
      "metadata": {
        "id": "9KzAJYFBD2DV"
      },
      "source": [
        "numericas <- data[, c(1,2,5,6,7,9)]"
      ],
      "execution_count": null,
      "outputs": []
    },
    {
      "cell_type": "code",
      "metadata": {
        "id": "cGdnPwSrDyEf"
      },
      "source": [
        "library(corrplot)\n",
        "correlacion<- cor(numericas,method=\"pearson\")\n",
        "corrplot(correlacion)"
      ],
      "execution_count": null,
      "outputs": []
    },
    {
      "cell_type": "markdown",
      "metadata": {
        "id": "PPJASMtHFXgm"
      },
      "source": [
        "No hay ningun correlacion tan alta como para sacar alguna variable del modelo"
      ]
    },
    {
      "cell_type": "code",
      "metadata": {
        "id": "Y-1TzV-eIeJk"
      },
      "source": [
        "data$isAdult=as.factor(data$isAdult)"
      ],
      "execution_count": 17,
      "outputs": []
    },
    {
      "cell_type": "code",
      "metadata": {
        "id": "ZsObYGoxIvhP"
      },
      "source": [
        "table(data$titleType)"
      ],
      "execution_count": null,
      "outputs": []
    },
    {
      "cell_type": "code",
      "metadata": {
        "id": "maSj6GEBtqRk",
        "colab": {
          "base_uri": "https://localhost:8080/"
        },
        "outputId": "f55e0fef-638a-4b20-beff-ae39bc68f576"
      },
      "source": [
        "install.packages(\"fastDummies\")\n",
        "library(fastDummies)\n",
        "data<-dummy_cols(data, select_columns = \"titleType\")"
      ],
      "execution_count": 53,
      "outputs": [
        {
          "output_type": "stream",
          "name": "stderr",
          "text": [
            "Installing package into ‘/usr/local/lib/R/site-library’\n",
            "(as ‘lib’ is unspecified)\n",
            "\n"
          ]
        }
      ]
    },
    {
      "cell_type": "code",
      "metadata": {
        "id": "sun0SE2seDNL"
      },
      "source": [
        "data$titleType=NULL"
      ],
      "execution_count": 19,
      "outputs": []
    },
    {
      "cell_type": "markdown",
      "metadata": {
        "id": "DaqWo8nZKi0z"
      },
      "source": [
        " Deberia realizar la misma limpieza en el dataset de resultados"
      ]
    },
    {
      "cell_type": "markdown",
      "metadata": {
        "id": "wErkUq6kgVt6"
      },
      "source": [
        "RESULTADOS"
      ]
    },
    {
      "cell_type": "code",
      "metadata": {
        "id": "0kxpVqh5ueKc"
      },
      "source": [
        "text <-select(resultados, 7, 31) \n",
        "\n",
        "text <- separate(text, genres_x, into = paste(\"genre\", 1:2, sep = \"_\"), sep = \"[^[:alnum:]]+\")\n",
        "\n",
        "colnames(text)\n",
        "\n",
        "resultados <- merge(resultados, text, by=\"id\")"
      ],
      "execution_count": null,
      "outputs": []
    },
    {
      "cell_type": "code",
      "metadata": {
        "id": "JMMiwW0uFr-_"
      },
      "source": [
        "resultados$'numVotes'[resultados$'numVotes' == \"\\\\N\"] <- NA\n",
        "resultados$'titleType'[resultados$'titleType' == \" \"] <- NA\n",
        "resultados$'genres_x'[resultados$'genres_x' == \"\\\\N\"] <- NA\n",
        "resultados$'directors'[resultados$'directors' == \"\\\\N\"] <- NA\n",
        "resultados$'writers'[resultados$'writers' == \"\\\\N\"] <- NA\n",
        "resultados$'id'[resultados$'id' == \"\\\\N\"] <- NA\n",
        "resultados$'isAdult'[resultados$'isAdult' == \"\\\\N\"] <- NA\n",
        "resultados$'isAdult'[resultados$'isAdult' == \"2014\"] <- \"0\"\n",
        "resultados$'seasonNumber'[resultados$'seasonNumber' == \"\"] <- NA\n",
        "resultados$'startYear'[resultados$'startYear' == \"\\\\N\"] <- NA\n",
        "resultados$'runtimeMinutes'[resultados$'runtimeMinutes' == \"\\\\N\"] <- NA\n",
        "resultados$'episodeNumber'[resultados$'episodeNumber' == \" \"] <- NA"
      ],
      "execution_count": 21,
      "outputs": []
    },
    {
      "cell_type": "code",
      "metadata": {
        "id": "JcfnkE2yhsAk"
      },
      "source": [
        "table(resultados$isAdult)"
      ],
      "execution_count": null,
      "outputs": []
    },
    {
      "cell_type": "code",
      "metadata": {
        "id": "hQHfU6q1FVos"
      },
      "source": [
        "resultados$endYear = NULL\n",
        "resultados$language = NULL\n",
        "resultados$original_language = NULL\n",
        "resultados$overview = NULL\n",
        "resultados$production_companies = NULL\n",
        "resultados$production_countries = NULL\n",
        "resultados$release_date = NULL\n",
        "resultados$status = NULL\n",
        "resultados$tagline = NULL\n",
        "resultados$video = NULL\n",
        "resultados$isOriginalTitle = NULL\n",
        "resultados$budget = NULL\n",
        "resultados$popularity = NULL\n",
        "resultados$revenue = NULL\n",
        "resultados$runtime = NULL\n",
        "resultados$types = NULL\n",
        "resultados$adult = NULL\n",
        "resultados$attributes = NULL\n",
        "resultados$genres_y = NULL"
      ],
      "execution_count": 22,
      "outputs": []
    },
    {
      "cell_type": "code",
      "metadata": {
        "id": "cXAjvew2uKik"
      },
      "source": [
        "resultados$'Comedy'[resultados$genre_1 == \"Comedy\"]<- 1\n",
        "resultados$'Drama'[resultados$genre_1 == \"Drama\"]<- 1\n",
        "resultados$'Documentary'[resultados$genre_1 == \"Documentary\"]<- 1\n",
        "resultados$'Crime'[resultados$genre_1 == \"Crime\"]<- 1\n",
        "resultados$'Animation'[resultados$genre_1 == \"Animation\"]<- 1\n",
        "resultados$'Adventure'[resultados$genre_1 == \"Adventure\"]<- 1\n",
        "resultados$'Reality'[resultados$genre_1 == \"Reality\"]<- 1\n",
        "resultados$'Short'[resultados$genre_1 == \"Short\"]<- 1\n",
        "resultados$'Music'[resultados$genre_1 == \"Music\"]<- 1\n",
        "resultados$Comedy[is.na(resultados$Comedy)]<-0\n",
        "resultados$Drama[is.na(resultados$Drama)]<-0\n",
        "resultados$Documentary[is.na(resultados$Documentary)]<-0\n",
        "resultados$Crime[is.na(resultados$Crime)]<-0\n",
        "resultados$Animation[is.na(resultados$Animation)]<-0\n",
        "resultados$Adventure[is.na(resultados$Adventure)]<-0\n",
        "resultados$Reality[is.na(resultados$Reality)]<-0\n",
        "resultados$Music[is.na(resultados$Music)]<-0\n",
        "resultados$Short[is.na(resultados$Short)]<-0\n",
        "\n",
        "resultados$genres_x = NULL\n",
        "resultados$genre_2 = NULL\n",
        "resultados$id = NULL\n",
        "resultados$genre_1=NULL\n",
        "resultados$writers=NULL\n",
        "resultados$directors=NULL\n",
        "resultados$titleType_=NULL"
      ],
      "execution_count": 23,
      "outputs": []
    },
    {
      "cell_type": "code",
      "metadata": {
        "id": "w272B_NngXYn"
      },
      "source": [
        "resultados<-dummy_cols(resultados, select_columns = \"titleType\")\n",
        "resultados$titleType=NULL"
      ],
      "execution_count": 24,
      "outputs": []
    },
    {
      "cell_type": "code",
      "metadata": {
        "id": "ZTj2TaUGvF3e"
      },
      "source": [
        "resultados$runtimeMinutes <- as.numeric(resultados$runtimeMinutes)\n",
        "resultados$runtimeMinutes[is.na(resultados$runtimeMinutes)]=median(resultados$runtimeMinutes,na.rm=TRUE)\n",
        "\n",
        "resultados$seasonNumber <- as.numeric(resultados$seasonNumber)\n",
        "resultados$seasonNumber[is.na(resultados$seasonNumber)] = median(resultados$seasonNumber,na.rm=TRUE)\n",
        "\n",
        "resultados$episodeNumber <- as.numeric(resultados$episodeNumber)\n",
        "resultados$episodeNumber[is.na(resultados$episodeNumber)] = median(resultados$episodeNumber,na.rm=TRUE)\n",
        "\n",
        "resultados$startYear <- as.numeric(resultados$startYear)\n",
        "resultados$startYear[is.na(resultados$startYear)]= median(resultados$startYear,na.rm=TRUE)\n",
        "\n",
        "resultados$ordering[is.na(resultados$ordering)] = mean(resultados$ordering,na.rm=TRUE)\n",
        "\n",
        "\n",
        "resultados$isAdult <- as.factor(resultados$isAdult)\n",
        "\n",
        "resultados$numVotes[is.na(resultados$numVotes)] = median(resultados$numVotes,na.rm=TRUE)"
      ],
      "execution_count": null,
      "outputs": []
    },
    {
      "cell_type": "code",
      "metadata": {
        "id": "kd0g8a4rvJkY"
      },
      "source": [
        "resultados$isAdult[resultados$isAdult == \"2014\"] <- \"0\""
      ],
      "execution_count": 26,
      "outputs": []
    },
    {
      "cell_type": "markdown",
      "metadata": {
        "id": "MxttCfPl2NXy"
      },
      "source": [
        "Solo estandarizo para la red neuronal\n"
      ]
    },
    {
      "cell_type": "code",
      "metadata": {
        "id": "Gsmkf5rwzJkV"
      },
      "source": [
        "library(dplyr)\n",
        "datos %>%\n",
        "mutate_if(is.numeric,scale)\n",
        "\n",
        "resultados %>%\n",
        "mutate_if(is.numeric,scale)"
      ],
      "execution_count": null,
      "outputs": []
    },
    {
      "cell_type": "code",
      "metadata": {
        "id": "Dam9dQl2j2yx"
      },
      "source": [
        "dim(data)"
      ],
      "execution_count": null,
      "outputs": []
    },
    {
      "cell_type": "code",
      "metadata": {
        "id": "a7LvZOBs2WL5"
      },
      "source": [
        "str(resultados)"
      ],
      "execution_count": null,
      "outputs": []
    },
    {
      "cell_type": "markdown",
      "metadata": {
        "id": "VyJL_7sEA2XH"
      },
      "source": [
        "MODELOS"
      ]
    },
    {
      "cell_type": "code",
      "metadata": {
        "id": "zPQg18K_Aucy"
      },
      "source": [
        "install.packages(\"caret\")\n",
        "library(caret)\n",
        "set.seed(909);particion=createDataPartition(y=data$averageRating,p=0.3,list=FALSE)\n",
        "entrenar=data[particion,]\n",
        "test=data[-particion,]"
      ],
      "execution_count": null,
      "outputs": []
    },
    {
      "cell_type": "code",
      "metadata": {
        "id": "qbYRtqGuvO1k"
      },
      "source": [
        "\n",
        "set.seed(909);particion2=createDataPartition(y=data$averageRating,p=0.4,list=FALSE)\n",
        "entrenar2=data[particion,]\n",
        "test2=data[-particion,]"
      ],
      "execution_count": null,
      "outputs": []
    },
    {
      "cell_type": "code",
      "metadata": {
        "id": "RshG20KVBC_Q"
      },
      "source": [
        "library(rpart)\n",
        "arbol=rpart(averageRating~.,entrenar)\n",
        "pred=predict(arbol,test)\n",
        "ECMA=mean((pred-test$averageRating)^2)"
      ],
      "execution_count": null,
      "outputs": []
    },
    {
      "cell_type": "code",
      "metadata": {
        "id": "Spnipmi4zrrw"
      },
      "source": [
        "rpart.plot(arbol,extra=1)"
      ],
      "execution_count": null,
      "outputs": []
    },
    {
      "cell_type": "code",
      "metadata": {
        "id": "QU7eG6XivU1U"
      },
      "source": [
        "arbol2=rpart(averageRating~.,entrenar2)\n",
        "pred2=predict(arbol,test2)\n",
        "ECMA=mean((pred2-test$averageRating)^2)"
      ],
      "execution_count": null,
      "outputs": []
    },
    {
      "cell_type": "code",
      "metadata": {
        "id": "6mhNmYEpzxPZ"
      },
      "source": [
        "rpart.plot(arbol2,extra=1)"
      ],
      "execution_count": null,
      "outputs": []
    },
    {
      "cell_type": "code",
      "metadata": {
        "id": "pTZsO_GQBHBV"
      },
      "source": [
        "library(nnet)\n",
        "library(NeuralNetTools)\n",
        "set.seed(123);red=nnet(averageRating~.,entrenar,size=100,maxit=10000,linout=TRUE)\n",
        "predRN=predict(red,test)\n",
        "ECM=mean((predRN-test$averageRating)^2)"
      ],
      "execution_count": null,
      "outputs": []
    },
    {
      "cell_type": "code",
      "metadata": {
        "id": "bcWA5n1fzYbo"
      },
      "source": [
        "plotnet(red)"
      ],
      "execution_count": null,
      "outputs": []
    },
    {
      "cell_type": "code",
      "metadata": {
        "id": "ni2cW054vZ0_"
      },
      "source": [
        "\n",
        "set.seed(123);red2=nnet(averageRating~.,entrenar2,size=100,maxit=10000,linout=TRUE)\n",
        "predRN=predict(red,test)\n",
        "ECM=mean((predRN-test2$averageRating)^2)"
      ],
      "execution_count": null,
      "outputs": []
    },
    {
      "cell_type": "code",
      "metadata": {
        "id": "scsXc2RjzhJe"
      },
      "source": [
        "plotnet(red2)"
      ],
      "execution_count": null,
      "outputs": []
    },
    {
      "cell_type": "code",
      "metadata": {
        "id": "k5zLzFb5BJwe"
      },
      "source": [
        "library(e1071)\n",
        "svm=svm(averageRating~.,entrenar)\n",
        "predSVM=predict(svm,test)\n",
        "ECMSV= mean((predSVM-test$averageRating)^2)"
      ],
      "execution_count": null,
      "outputs": []
    },
    {
      "cell_type": "code",
      "metadata": {
        "id": "X7U2jpLwwA41"
      },
      "source": [
        "svm2=svm(averageRating~.,entrenar2)\n",
        "predSVM2=predict(svm2,test2)\n",
        "ECMSV= mean((predSVM2-test$averageRating)^2)"
      ],
      "execution_count": null,
      "outputs": []
    },
    {
      "cell_type": "code",
      "metadata": {
        "id": "N4ldCB9bGvoz"
      },
      "source": [
        "install.packages(\"randomForest\")\n",
        "library(randomForest)\n",
        "set.seed(123);RF=randomForest(averageRating~.,entrenar,ntree=100,mtry=5)"
      ],
      "execution_count": 30,
      "outputs": []
    },
    {
      "cell_type": "code",
      "metadata": {
        "id": "V48JjG3aWbKF"
      },
      "source": [
        "importance(RF)"
      ],
      "execution_count": null,
      "outputs": []
    },
    {
      "cell_type": "code",
      "metadata": {
        "id": "ndyUdO8Zmycu"
      },
      "source": [
        "RF"
      ],
      "execution_count": null,
      "outputs": []
    },
    {
      "cell_type": "code",
      "metadata": {
        "id": "TQi7Hs3NnAbI"
      },
      "source": [
        "varImpPlot(RF)"
      ],
      "execution_count": null,
      "outputs": []
    },
    {
      "cell_type": "code",
      "metadata": {
        "id": "ycfcsGv9oHUF"
      },
      "source": [
        "plot(RF)"
      ],
      "execution_count": null,
      "outputs": []
    },
    {
      "cell_type": "code",
      "metadata": {
        "id": "UdHQjBUjz7Hq"
      },
      "source": [
        "nuevo1<- data.frame(predict(RF, resultados))\n",
        "names (nuevo1)[1] = \"averageRating\"\n",
        "nuevo1$'id'<-resultados2$id"
      ],
      "execution_count": null,
      "outputs": []
    },
    {
      "cell_type": "code",
      "metadata": {
        "id": "DXbn5Nz07V4L"
      },
      "source": [
        "testeo<-data.frame(predict(RF,test))"
      ],
      "execution_count": null,
      "outputs": []
    },
    {
      "cell_type": "code",
      "metadata": {
        "id": "6SqfJ4id6yn6"
      },
      "source": [
        "sum((test$averageRating-testeo)^2)/sum((test$averageRating-mean(test$averageRating))^2)"
      ],
      "execution_count": null,
      "outputs": []
    },
    {
      "cell_type": "code",
      "metadata": {
        "id": "AYhU4J3Mava7"
      },
      "source": [
        "nuevo2<- data.frame(predict(red2, resultados))\n",
        "names (nuevo2)[1] = \"averageRating\"\n",
        "nuevo2$'id'<-resultados2$id"
      ],
      "execution_count": null,
      "outputs": []
    },
    {
      "cell_type": "code",
      "metadata": {
        "id": "56xCmnxw0EJ7"
      },
      "source": [
        "resultados2 = read.csv(\"resultados.csv\", header=TRUE, sep=\",\")"
      ],
      "execution_count": null,
      "outputs": []
    },
    {
      "cell_type": "code",
      "metadata": {
        "id": "0GYrCyjK0NL1"
      },
      "source": [
        "nuevo2<- data.frame(predict(red2, resultados))\n",
        "names (nuevo2)[1] = \"averageRating\"\n",
        "nuevo2$'id'<-resultados2$id"
      ],
      "execution_count": null,
      "outputs": []
    },
    {
      "cell_type": "code",
      "metadata": {
        "id": "pzeP1G5-0Q67"
      },
      "source": [
        "nuevo3<- data.frame(predict(arbol, resultados))\n",
        "names (nuevo3)[1] = \"averageRating\"\n",
        "nuevo3$'id'<-resultados2$id"
      ],
      "execution_count": null,
      "outputs": []
    },
    {
      "cell_type": "code",
      "metadata": {
        "id": "S3blxwnF0XNE"
      },
      "source": [
        "nuevo4<- data.frame(predict(arbol2, resultados))\n",
        "names (nuevo4)[1] = \"averageRating\"\n",
        "nuevo4$'id'<-resultados2$id"
      ],
      "execution_count": null,
      "outputs": []
    },
    {
      "cell_type": "code",
      "metadata": {
        "id": "A6Gj_rhj0aBw"
      },
      "source": [
        "nuevo5<- data.frame(predict(svm, resultados))\n",
        "names (nuevo5)[1] = \"averageRating\"\n",
        "nuevo5$'id'<-resultados2$id"
      ],
      "execution_count": null,
      "outputs": []
    },
    {
      "cell_type": "code",
      "metadata": {
        "id": "eb3AFbK_0dfu"
      },
      "source": [
        "nuevo6<- data.frame(predict(svm2, resultados))\n",
        "names (nuevo6)[1] = \"averageRating\"\n",
        "nuevo6$'id'<-resultados2$id"
      ],
      "execution_count": null,
      "outputs": []
    },
    {
      "cell_type": "code",
      "metadata": {
        "id": "LsY3_fb20if2"
      },
      "source": [
        "write.csv(nuevo,file = \"Results1.csv\",row.names = F)\n",
        "write.csv(nuevo2,file = \"Results2.csv\",row.names = F)\n",
        "write.csv(nuevo3,file = \"Results3.csv\",row.names = F)\n",
        "write.csv(nuevo4,file = \"Results4.csv\",row.names = F)\n",
        "write.csv(nuevo5,file = \"Results5.csv\",row.names = F)\n",
        "write.csv(nuevo6,file = \"Results6.csv\",row.names = F)"
      ],
      "execution_count": null,
      "outputs": []
    },
    {
      "cell_type": "code",
      "metadata": {
        "id": "0Gw_qmQ1bH3o"
      },
      "source": [
        "write.csv(nuevo1,file = \"RF.csv\",row.names = F)"
      ],
      "execution_count": null,
      "outputs": []
    },
    {
      "cell_type": "markdown",
      "metadata": {
        "id": "4E800XI4ZZlF"
      },
      "source": [
        "Analizo las variables importantes del modelo"
      ]
    },
    {
      "cell_type": "code",
      "metadata": {
        "id": "rrtwO1EQbPYT"
      },
      "source": [
        "library(dplyr)\n",
        "data %>%\n",
        "mutate_if(is.numeric,scale)"
      ],
      "execution_count": null,
      "outputs": []
    },
    {
      "cell_type": "code",
      "metadata": {
        "id": "3pkGGlXEbmyh"
      },
      "source": [
        "str(data)"
      ],
      "execution_count": null,
      "outputs": []
    },
    {
      "cell_type": "code",
      "metadata": {
        "id": "tKABSqEhccZ1"
      },
      "source": [
        "data$runtimeMinutes[data$runtimeMinutes > 10000] <-median(data$runtimeMinutes,na.rm=TRUE)"
      ],
      "execution_count": 51,
      "outputs": []
    },
    {
      "cell_type": "code",
      "metadata": {
        "id": "SictL9giZZCm"
      },
      "source": [
        "library(ggplot2)\n",
        "\n",
        "ggplot(data, aes(x=averageRating, y=runtimeMinutes,color=averageRating)) +\n",
        "    geom_point(size=3) + ggtitle(\"Relacion entre rating y minutos \")"
      ],
      "execution_count": null,
      "outputs": []
    },
    {
      "cell_type": "code",
      "metadata": {
        "id": "nEJD1kH2eKYf"
      },
      "source": [
        "peliculas<-select(data,averageRating,titleType_tvEpisode)"
      ],
      "execution_count": 77,
      "outputs": []
    },
    {
      "cell_type": "code",
      "metadata": {
        "id": "k7gravAjfJ_g"
      },
      "source": [
        "filtro<-filter(peliculas,titleType_tvEpisode==1)"
      ],
      "execution_count": 80,
      "outputs": []
    },
    {
      "cell_type": "code",
      "metadata": {
        "id": "qjJ7rWeHfUh5"
      },
      "source": [
        "summary(filtro)"
      ],
      "execution_count": null,
      "outputs": []
    },
    {
      "cell_type": "code",
      "metadata": {
        "id": "Wzvx5mOTgbW5"
      },
      "source": [
        "peliculas<-data %>% \n",
        "  group_by(startYear) %>% \n",
        "  summarise(\n",
        "            n = n ())\n",
        "\n",
        "peliculas<-peliculas[with(peliculas,order(-peliculas$`startYear`)),]"
      ],
      "execution_count": 63,
      "outputs": []
    },
    {
      "cell_type": "code",
      "metadata": {
        "id": "Sm35aUXVf6s0"
      },
      "source": [
        "ggplot(peliculas,aes(x=startYear,y=n)) +\n",
        "  geom_line( color=\"blue\", size=1, alpha=0.9) +\n",
        "  ggtitle(\"Evolucion de la cantidad de peliculas a traves de los años\")"
      ],
      "execution_count": null,
      "outputs": []
    },
    {
      "cell_type": "code",
      "metadata": {
        "id": "HOFg5Okng_zY"
      },
      "source": [
        "peliculas2<-select(data,averageRating,startYear)"
      ],
      "execution_count": 67,
      "outputs": []
    },
    {
      "cell_type": "code",
      "metadata": {
        "id": "SXFpLmxvhHzP"
      },
      "source": [
        "filtro<-filter(peliculas2,startYear< 1950)"
      ],
      "execution_count": 70,
      "outputs": []
    },
    {
      "cell_type": "code",
      "metadata": {
        "id": "W8EDr5YshMzH"
      },
      "source": [
        "summary(filtro)"
      ],
      "execution_count": null,
      "outputs": []
    },
    {
      "cell_type": "code",
      "metadata": {
        "id": "mDDkBHGMhyJG"
      },
      "source": [
        "\n",
        "ggplot(data, aes(x=averageRating, y=numVotes,color=averageRating)) +\n",
        "    geom_point(size=3) + ggtitle(\"Relacion entre rating y cantidad de votos\")"
      ],
      "execution_count": null,
      "outputs": []
    }
  ]
}